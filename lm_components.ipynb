{
 "cells": [
  {
   "cell_type": "markdown",
   "metadata": {},
   "source": [
    "To do: Convert this to a class"
   ]
  },
  {
   "cell_type": "code",
   "execution_count": 1,
   "metadata": {},
   "outputs": [],
   "source": [
    "import networkx as nx"
   ]
  },
  {
   "cell_type": "code",
   "execution_count": 2,
   "metadata": {},
   "outputs": [],
   "source": [
    "class NetworkLM():\n",
    "    def __init__(self, graph_path, freq = 'freq', count = 'count') -> None:\n",
    "        \"\"\"Initialise the language model\n",
    "        Parameters:\n",
    "            graph_path (str): filepath to the network GML\n",
    "            freq (str): the node attribute that stores word frequency (default: freq)\n",
    "            count (str): the edge attribute that stores edge frequency (default: count)\n",
    "        Returns:\n",
    "            None\"\"\"\n",
    "        \n",
    "        self.G = nx.read_gml(graph_path)\n",
    "        self.freq = freq\n",
    "        self.count = count\n",
    "        \n",
    "    def k_most_common_from(self, target, k = 10) -> dict:\n",
    "        \"\"\"Find the k most common words after a target word\n",
    "        Parameters:\n",
    "            target (str): the target word\n",
    "            k (int): the limit (default: 10), if None then all are retrieved\n",
    "        Returns:\n",
    "            dict: next words and their probabilities sorted desc\"\"\"\n",
    "        \n",
    "        # find all possible next words and counts using out-edges of target\n",
    "        next_words = {i[1]: i[2][self.count] for i in self.G.out_edges(target, data = True)}\n",
    "        \n",
    "        if len(next_words) > 0:\n",
    "            total = sum(next_words.values())  # calculate total out edges\n",
    "            \n",
    "            # get next words sorted desc by probability\n",
    "            next_words = sorted({i: next_words[i] / total for i in next_words}.items(), key = lambda x: x[1], reverse = True)\n",
    "            \n",
    "            if k:\n",
    "                return dict(next_words[: k])\n",
    "            else:\n",
    "                return dict(next_words)\n",
    "            \n",
    "        return dict()"
   ]
  },
  {
   "cell_type": "code",
   "execution_count": 3,
   "metadata": {},
   "outputs": [],
   "source": [
    "nlm = NetworkLM('./Graphs/corpus_vocab.gml')"
   ]
  }
 ],
 "metadata": {
  "kernelspec": {
   "display_name": "Python 3",
   "language": "python",
   "name": "python3"
  },
  "language_info": {
   "codemirror_mode": {
    "name": "ipython",
    "version": 3
   },
   "file_extension": ".py",
   "mimetype": "text/x-python",
   "name": "python",
   "nbconvert_exporter": "python",
   "pygments_lexer": "ipython3",
   "version": "3.8.2"
  }
 },
 "nbformat": 4,
 "nbformat_minor": 4
}
