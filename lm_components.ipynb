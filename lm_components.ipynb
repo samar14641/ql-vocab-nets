{
 "cells": [
  {
   "cell_type": "markdown",
   "metadata": {},
   "source": [
    "To do: Convert this to a class"
   ]
  },
  {
   "cell_type": "code",
   "execution_count": 1,
   "metadata": {},
   "outputs": [],
   "source": [
    "import networkx as nx"
   ]
  },
  {
   "cell_type": "code",
   "execution_count": 2,
   "metadata": {},
   "outputs": [
    {
     "data": {
      "text/plain": [
       "11553"
      ]
     },
     "execution_count": 2,
     "metadata": {},
     "output_type": "execute_result"
    }
   ],
   "source": [
    "vocab_G = nx.read_gml('./Graphs/corpus_vocab.gml')\n",
    "len(vocab_G)"
   ]
  },
  {
   "cell_type": "code",
   "execution_count": 3,
   "metadata": {},
   "outputs": [],
   "source": [
    "def k_most_common_from(G: nx.DiGraph, target, k = 10, occur = 'count') -> tuple:\n",
    "    \"\"\"Find the k most common words after a target word\n",
    "    Parameters:\n",
    "        G (nx.DiGraph): a directed network\n",
    "        target (str): the target word\n",
    "        k (int): the limit (default: 10), if None then all are retrieved\n",
    "    Returns:\n",
    "        tuple: next words and their probabilities\"\"\"\n",
    "    \n",
    "    next_words = {i[1]: i[2][occur] for i in G.out_edges(target, data = True)}\n",
    "    \n",
    "    if len(next_words) > 0:\n",
    "        total = sum(next_words.values())\n",
    "        \n",
    "        next_words = sorted({i: next_words[i] / total for i in next_words}.items(), key = lambda x: x[1], reverse = True)\n",
    "        \n",
    "        if k:\n",
    "            return dict(next_words[: k])\n",
    "        else:\n",
    "            return dict(next_words)\n",
    "    \n",
    "    return dict()"
   ]
  },
  {
   "cell_type": "code",
   "execution_count": 4,
   "metadata": {},
   "outputs": [
    {
     "data": {
      "text/plain": [
       "{'the': 0.12415469146238377,\n",
       " 'i': 0.0944632290786137,\n",
       " 'it': 0.04723161453930685,\n",
       " 'but': 0.041631445477599324,\n",
       " 'he': 0.034657650042265425,\n",
       " 'we': 0.02345731191885038,\n",
       " 'in': 0.02187235841081995,\n",
       " 'at': 0.020181741335587488,\n",
       " 'a': 0.01775147928994083,\n",
       " 'and': 0.017645815722738798}"
      ]
     },
     "execution_count": 4,
     "metadata": {},
     "output_type": "execute_result"
    }
   ],
   "source": [
    "k_most_common_from(vocab_G, '<s>', k = 10)"
   ]
  }
 ],
 "metadata": {
  "kernelspec": {
   "display_name": "Python 3",
   "language": "python",
   "name": "python3"
  },
  "language_info": {
   "codemirror_mode": {
    "name": "ipython",
    "version": 3
   },
   "file_extension": ".py",
   "mimetype": "text/x-python",
   "name": "python",
   "nbconvert_exporter": "python",
   "pygments_lexer": "ipython3",
   "version": "3.8.2"
  }
 },
 "nbformat": 4,
 "nbformat_minor": 4
}
